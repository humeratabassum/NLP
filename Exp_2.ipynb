{
  "nbformat": 4,
  "nbformat_minor": 0,
  "metadata": {
    "colab": {
      "provenance": [],
      "authorship_tag": "ABX9TyOJLhjGhtp56zYBJm4jxcsB",
      "include_colab_link": true
    },
    "kernelspec": {
      "name": "python3",
      "display_name": "Python 3"
    },
    "language_info": {
      "name": "python"
    }
  },
  "cells": [
    {
      "cell_type": "markdown",
      "metadata": {
        "id": "view-in-github",
        "colab_type": "text"
      },
      "source": [
        "<a href=\"https://colab.research.google.com/github/humeratabassum/NLP/blob/main/Exp_2.ipynb\" target=\"_parent\"><img src=\"https://colab.research.google.com/assets/colab-badge.svg\" alt=\"Open In Colab\"/></a>"
      ]
    },
    {
      "cell_type": "markdown",
      "source": [
        "📘 TEXT PREPROCESSING STEPS USING NLTK\n",
        "\n",
        " 1. Import necessary libraries from NLTK\n",
        " 2. Download required resources: punkt, stopwords, and wordnet\n",
        " 3. Define a sample text to process\n",
        " 4. Tokenize the text into individual words\n",
        " 5. Remove common stopwords (like \"the\", \"is\", \"and\", etc.)\n",
        " 6. Apply stemming to reduce words to their root form (e.g., \"running\" -> \"run\")\n",
        " 7. Apply lemmatization to get proper base form of words (e.g., \"cats\" -> \"cat\")\n",
        " 8. Print the outputs after each step"
      ],
      "metadata": {
        "id": "LStK9y8_IK_s"
      }
    },
    {
      "cell_type": "code",
      "execution_count": null,
      "metadata": {
        "colab": {
          "base_uri": "https://localhost:8080/"
        },
        "id": "x5DuQ38vgANA",
        "outputId": "b3218719-5cfe-4408-c913-2805584ab99b"
      },
      "outputs": [
        {
          "output_type": "stream",
          "name": "stdout",
          "text": [
            "Tokens: ['The', 'cats', 'were', 'running', 'faster', 'than', 'the', 'dogs', '.']\n",
            "After Stop Word Removal: ['cats', 'running', 'faster', 'dogs', '.']\n",
            "After Stemming: ['cat', 'run', 'faster', 'dog', '.']\n",
            "After Lemmatization: ['cat', 'running', 'faster', 'dog', '.']\n"
          ]
        },
        {
          "output_type": "stream",
          "name": "stderr",
          "text": [
            "[nltk_data] Downloading package punkt_tab to /root/nltk_data...\n",
            "[nltk_data]   Package punkt_tab is already up-to-date!\n",
            "[nltk_data] Downloading package stopwords to /root/nltk_data...\n",
            "[nltk_data]   Package stopwords is already up-to-date!\n",
            "[nltk_data] Downloading package wordnet to /root/nltk_data...\n",
            "[nltk_data]   Package wordnet is already up-to-date!\n"
          ]
        }
      ],
      "source": [
        "import nltk\n",
        "from nltk.corpus import stopwords\n",
        "from nltk.tokenize import word_tokenize\n",
        "from nltk.stem import PorterStemmer\n",
        "from nltk.stem import WordNetLemmatizer\n",
        "from nltk import download\n",
        "\n",
        "# Download necessary NLTK resources\n",
        "download('punkt_tab')  # For tokenization\n",
        "download('stopwords')  # For stopwords\n",
        "download('wordnet')  # For lemmatization\n",
        "\n",
        "# Sample text for preprocessing\n",
        "text = \"The cats were running faster than the dogs.\"\n",
        "\n",
        "# 1. Tokenization\n",
        "tokens = word_tokenize(text)\n",
        "print(\"Tokens:\", tokens)\n",
        "\n",
        "# 2. Stop Word Removal\n",
        "stop_words = set(stopwords.words('english'))\n",
        "filtered_tokens = [word for word in tokens if word.lower() not in stop_words]\n",
        "print(\"After Stop Word Removal:\", filtered_tokens)\n",
        "\n",
        "# 3. Stemming\n",
        "stemmer = PorterStemmer()\n",
        "stemmed_words = [stemmer.stem(word) for word in filtered_tokens]\n",
        "print(\"After Stemming:\", stemmed_words)\n",
        "\n",
        "# 4. Lemmatization\n",
        "lemmatizer = WordNetLemmatizer()\n",
        "lemmatized_words = [lemmatizer.lemmatize(word) for word in filtered_tokens]\n",
        "print(\"After Lemmatization:\", lemmatized_words)\n"
      ]
    },
    {
      "cell_type": "code",
      "source": [],
      "metadata": {
        "id": "9zKok9_sgU0K"
      },
      "execution_count": null,
      "outputs": []
    },
    {
      "cell_type": "code",
      "source": [],
      "metadata": {
        "id": "GbyN0IsJnSUA"
      },
      "execution_count": null,
      "outputs": []
    }
  ]
}